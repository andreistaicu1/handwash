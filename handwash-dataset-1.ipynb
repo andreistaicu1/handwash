{
 "cells": [
  {
   "cell_type": "code",
   "execution_count": 1,
   "id": "2b8027a2",
   "metadata": {
    "_cell_guid": "b1076dfc-b9ad-4769-8c92-a6c4dae69d19",
    "_uuid": "8f2839f25d086af736a60e9eeb907d3b93b6e0e5",
    "execution": {
     "iopub.execute_input": "2024-10-08T17:44:09.426849Z",
     "iopub.status.busy": "2024-10-08T17:44:09.426486Z",
     "iopub.status.idle": "2024-10-08T17:44:09.431796Z",
     "shell.execute_reply": "2024-10-08T17:44:09.430937Z"
    },
    "papermill": {
     "duration": 0.012969,
     "end_time": "2024-10-08T17:44:09.433810",
     "exception": false,
     "start_time": "2024-10-08T17:44:09.420841",
     "status": "completed"
    },
    "tags": []
   },
   "outputs": [],
   "source": [
    "# This Python 3 environment comes with many helpful analytics libraries installed\n",
    "# It is defined by the kaggle/python Docker image: https://github.com/kaggle/docker-python\n",
    "# For example, here's several helpful packages to load\n",
    "\n",
    "# import numpy as np # linear algebra\n",
    "# import pandas as pd # data processing, CSV file I/O (e.g. pd.read_csv)\n",
    "\n",
    "# Input data files are available in the read-only \"../input/\" directory\n",
    "# For example, running this (by clicking run or pressing Shift+Enter) will list all files under the input directory\n",
    "\n",
    "# import os\n",
    "#for dirname, _, filenames in os.walk('/kaggle/input'):\n",
    "#     for filename in filenames:\n",
    "#        print(os.path.join(dirname, filename))\n",
    "\n",
    "# You can write up to 20GB to the current directory (/kaggle/working/) that gets preserved as output when you create a version using \"Save & Run All\" \n",
    "# You can also write temporary files to /kaggle/temp/, but they won't be saved outside of the current session"
   ]
  },
  {
   "cell_type": "code",
   "execution_count": 2,
   "id": "4755f2ad",
   "metadata": {
    "execution": {
     "iopub.execute_input": "2024-10-08T17:44:09.442695Z",
     "iopub.status.busy": "2024-10-08T17:44:09.442425Z",
     "iopub.status.idle": "2024-10-08T17:45:06.828601Z",
     "shell.execute_reply": "2024-10-08T17:45:06.827732Z"
    },
    "papermill": {
     "duration": 57.393194,
     "end_time": "2024-10-08T17:45:06.831042",
     "exception": false,
     "start_time": "2024-10-08T17:44:09.437848",
     "status": "completed"
    },
    "tags": []
   },
   "outputs": [
    {
     "name": "stdout",
     "output_type": "stream",
     "text": [
      "Cloning into 'transformers'...\r\n",
      "remote: Enumerating objects: 233299, done.\u001b[K\r\n",
      "remote: Counting objects: 100% (22034/22034), done.\u001b[K\r\n",
      "remote: Compressing objects: 100% (1478/1478), done.\u001b[K\r\n",
      "remote: Total 233299 (delta 21479), reused 20629 (delta 20464), pack-reused 211265 (from 1)\u001b[K\r\n",
      "Receiving objects: 100% (233299/233299), 239.21 MiB | 25.35 MiB/s, done.\r\n",
      "Resolving deltas: 100% (170829/170829), done.\r\n",
      "Collecting av\r\n",
      "  Downloading av-13.1.0-cp310-cp310-manylinux_2_17_x86_64.manylinux2014_x86_64.whl.metadata (4.4 kB)\r\n",
      "Downloading av-13.1.0-cp310-cp310-manylinux_2_17_x86_64.manylinux2014_x86_64.whl (33.1 MB)\r\n",
      "\u001b[2K   \u001b[90m━━━━━━━━━━━━━━━━━━━━━━━━━━━━━━━━━━━━━━━━\u001b[0m \u001b[32m33.1/33.1 MB\u001b[0m \u001b[31m47.6 MB/s\u001b[0m eta \u001b[36m0:00:00\u001b[0m\r\n",
      "\u001b[?25hInstalling collected packages: av\r\n",
      "Successfully installed av-13.1.0\r\n"
     ]
    }
   ],
   "source": [
    "! git clone https://github.com/huggingface/transformers.git\n",
    "! pip3 install av\n",
    "    \n",
    "import os\n",
    "import random\n",
    "import matplotlib.pyplot as plt\n",
    "import numpy as np\n",
    "import torch.nn as nn\n",
    "import shutil\n",
    "import av\n",
    "import sys\n",
    "import torch\n",
    "from tqdm import tqdm\n",
    "from time import process_time\n",
    "\n",
    "from torch.utils.data import Dataset, DataLoader\n",
    "from sklearn.model_selection import train_test_split\n",
    "from transformers import VivitConfig, VivitModel, VivitImageProcessor, VivitForVideoClassification"
   ]
  },
  {
   "cell_type": "code",
   "execution_count": 3,
   "id": "4f5c8796",
   "metadata": {
    "execution": {
     "iopub.execute_input": "2024-10-08T17:45:06.872942Z",
     "iopub.status.busy": "2024-10-08T17:45:06.872309Z",
     "iopub.status.idle": "2024-10-08T17:45:07.057354Z",
     "shell.execute_reply": "2024-10-08T17:45:07.056557Z"
    },
    "papermill": {
     "duration": 0.207792,
     "end_time": "2024-10-08T17:45:07.059677",
     "exception": false,
     "start_time": "2024-10-08T17:45:06.851885",
     "status": "completed"
    },
    "tags": []
   },
   "outputs": [],
   "source": [
    "data_dir = '../input/hand-wash-dataset/HandWashDataset/HandWashDataset'\n",
    "\n",
    "classes = ['Step_1', 'Step_2_Left', 'Step_2_Right', 'Step_3', 'Step_4_Left', 'Step_4_Right', 'Step_5_Left',\n",
    "           'Step_5_Right', 'Step_6_Left', 'Step_6_Right', 'Step_7_Left', 'Step_7_Right']\n",
    "\n",
    "def get_classes_filenames(data_dir, classes):\n",
    "    \"\"\"\n",
    "    Filenames of files in data_dir/classes[i] for each i\n",
    "    Args:\n",
    "        data_dir (`str`): filepath to a directory\n",
    "        classes (`list[str]`): list of subdirectories of data_dir\n",
    "    Return:\n",
    "        filenames (`dict`): dictionary of filenames\n",
    "    \"\"\"\n",
    "    filenames = {}\n",
    "    for class_name in classes:\n",
    "        class_dir = os.path.join(data_dir, class_name)\n",
    "        filenames[class_name] = os.listdir(class_dir)\n",
    "    return filenames\n",
    "\n",
    "filenames = get_classes_filenames(data_dir, classes)"
   ]
  },
  {
   "cell_type": "code",
   "execution_count": 4,
   "id": "3df2f5e2",
   "metadata": {
    "execution": {
     "iopub.execute_input": "2024-10-08T17:45:07.101223Z",
     "iopub.status.busy": "2024-10-08T17:45:07.100878Z",
     "iopub.status.idle": "2024-10-08T17:45:07.117202Z",
     "shell.execute_reply": "2024-10-08T17:45:07.116404Z"
    },
    "papermill": {
     "duration": 0.039374,
     "end_time": "2024-10-08T17:45:07.119139",
     "exception": false,
     "start_time": "2024-10-08T17:45:07.079765",
     "status": "completed"
    },
    "tags": []
   },
   "outputs": [],
   "source": [
    "# Auxilliary functions from Hugging Face\n",
    "\n",
    "def read_video_pyav(container, indices):\n",
    "    '''\n",
    "    Decode the video with PyAV decoder.\n",
    "    Args:\n",
    "        container (`av.container.input.InputContainer`): PyAV container.\n",
    "        indices (`List[int]`): List of frame indices to decode.\n",
    "    Returns:\n",
    "        result (np.ndarray): np array of decoded frames of shape (num_frames, height, width, 3).\n",
    "    '''\n",
    "    frames = []\n",
    "    container.seek(0)\n",
    "    start_index = indices[0]\n",
    "    end_index = indices[-1]\n",
    "    for i, frame in enumerate(container.decode(video=0)):\n",
    "        if i > end_index:\n",
    "            break\n",
    "        if i >= start_index and i in indices:\n",
    "            frames.append(frame)\n",
    "    return np.stack([x.to_ndarray(format=\"rgb24\") for x in frames])\n",
    "\n",
    "def sample_frame_indices(clip_len, frame_sample_rate, seg_len):\n",
    "    '''\n",
    "    Sample a given number of frame indices from the video.\n",
    "    Args:\n",
    "        clip_len (`int`): Total number of frames to sample.\n",
    "        frame_sample_rate (`int`): Sample every n-th frame.\n",
    "        seg_len (`int`): Maximum allowed index of sample's last frame.\n",
    "    Returns:\n",
    "        indices (`List[int]`): List of sampled frame indices\n",
    "    '''\n",
    "    converted_len = int(clip_len * frame_sample_rate)\n",
    "    end_idx = np.random.randint(converted_len, seg_len)\n",
    "    start_idx = end_idx - converted_len\n",
    "    indices = np.linspace(start_idx, end_idx, num=clip_len)\n",
    "    indices = np.clip(indices, start_idx, end_idx - 1).astype(np.int64)\n",
    "    return indices\n",
    "\n",
    "label2id = {class_name: idx for idx, class_name in enumerate(classes)}\n",
    "id2label = {idx : class_name for idx, class_name in enumerate(classes)}\n",
    "\n",
    "# Class of dataset\n",
    "class HandwashingDataset(Dataset):\n",
    "    \"\"\"Handwashing Dataset.\"\"\"\n",
    "    def __init__(self, file_path, file_names, image_processor, transform=None):\n",
    "        self.labels = []\n",
    "        self.file_paths = []\n",
    "        self.image_processor = image_processor\n",
    "        for label in file_names.keys():\n",
    "            for name in file_names[label]:\n",
    "                full_path = os.path.join(file_path, label, name)\n",
    "                self.file_paths.append(full_path)\n",
    "                self.labels.append(label2id[label])\n",
    "        \n",
    "    def __len__(self):\n",
    "        return len(self.file_paths)\n",
    "    \n",
    "    def __getitem__(self, idx):\n",
    "        #t1 = process_time()\n",
    "        vid_container = av.open(self.file_paths[idx])\n",
    "        #t2 = process_time()\n",
    "        vid_indices = sample_frame_indices(clip_len=32, frame_sample_rate=1, seg_len=vid_container.streams.video[0].frames)\n",
    "        #t3 = process_time()\n",
    "        vid_read = read_video_pyav(container=vid_container, indices=vid_indices)\n",
    "        #t4 = process_time()\n",
    "        vid_input = self.image_processor(list(vid_read), return_tensors=\"pt\")\n",
    "        #t5 = process_time()\n",
    "        vid_input['pixel_values'] = vid_input['pixel_values'].squeeze(0)\n",
    "        #print(f\"av.open takes:       {t2 - t1}\")\n",
    "        #print(f\"sample_frame takes:  {t3 - t2}\")\n",
    "        #print(f\"read_video takes:    {t4 - t3}\")\n",
    "        #print(f\"img_process takes:   {t5 - t4}\")\n",
    "        \n",
    "        return {'video' : vid_input, 'class' : torch.tensor(self.labels[idx], dtype=torch.long)}"
   ]
  },
  {
   "cell_type": "code",
   "execution_count": 5,
   "id": "50da4f48",
   "metadata": {
    "execution": {
     "iopub.execute_input": "2024-10-08T17:45:07.159382Z",
     "iopub.status.busy": "2024-10-08T17:45:07.158753Z",
     "iopub.status.idle": "2024-10-08T17:45:07.172017Z",
     "shell.execute_reply": "2024-10-08T17:45:07.171355Z"
    },
    "papermill": {
     "duration": 0.035465,
     "end_time": "2024-10-08T17:45:07.173950",
     "exception": false,
     "start_time": "2024-10-08T17:45:07.138485",
     "status": "completed"
    },
    "tags": []
   },
   "outputs": [],
   "source": [
    "def split_dataset(filenames, test_size=0.2, random_state=20):\n",
    "    test = {}\n",
    "    train = {}\n",
    "    for label in filenames.keys():\n",
    "        train_names, test_names = train_test_split(filenames[label], test_size=test_size, random_state=random_state)\n",
    "        test[label] = test_names\n",
    "        train[label] = train_names\n",
    "    return train, test\n",
    "\n",
    "# Preparing the dataset and splititng into training and test datasets\n",
    "train_vid_names, test_vid_names = split_dataset(filenames, random_state=8)"
   ]
  },
  {
   "cell_type": "code",
   "execution_count": 6,
   "id": "5824390f",
   "metadata": {
    "execution": {
     "iopub.execute_input": "2024-10-08T17:45:07.214131Z",
     "iopub.status.busy": "2024-10-08T17:45:07.213849Z",
     "iopub.status.idle": "2024-10-08T17:45:07.222878Z",
     "shell.execute_reply": "2024-10-08T17:45:07.222001Z"
    },
    "papermill": {
     "duration": 0.031246,
     "end_time": "2024-10-08T17:45:07.224694",
     "exception": false,
     "start_time": "2024-10-08T17:45:07.193448",
     "status": "completed"
    },
    "tags": []
   },
   "outputs": [],
   "source": [
    "def train_vivit_model(model, data_loader, criterion, optimizer, device, num_epochs=10):\n",
    "    \"\"\"\n",
    "    Trains the Vision Transformer (ViViT) model.\n",
    "    \n",
    "    Args:\n",
    "        model (`nn.Module`): The ViViT model to train.\n",
    "        data_loader (`DataLoader`): The PyTorch DataLoader with HandwashingDataset.\n",
    "        criterion (`torch.nn.Module`): Loss function (e.g., CrossEntropyLoss).\n",
    "        optimizer (`torch.optim.Optimizer`): Optimizer (e.g., Adam, SGD).\n",
    "        device (`torch.device`): Device to train on ('cuda' or 'cpu').\n",
    "        num_epochs (`int`): Number of epochs to train (default: 10).\n",
    "    \n",
    "    Returns:\n",
    "        model: Trained ViViT model.\n",
    "    \"\"\"\n",
    "    # Move model to the device (GPU or CPU)\n",
    "    model.to(device)\n",
    "    \n",
    "    # Training loop\n",
    "    for epoch in range(num_epochs):\n",
    "        model.train()  # Set model to training mode\n",
    "        running_loss = 0.0\n",
    "        correct_predictions = 0\n",
    "        total_samples = 0\n",
    "        \n",
    "        # Loop over data batches\n",
    "        for batch in tqdm(data_loader, desc=f\"Epoch {epoch+1}/{num_epochs}\"):\n",
    "            # Get inputs and labels, move them to the device\n",
    "            inputs = batch['video'].to(device)  # (batch_size, num_frames, C, H, W)\n",
    "            labels = batch['class'].to(device)  # (batch_size,)\n",
    "            \n",
    "            # Zero the parameter gradients\n",
    "            optimizer.zero_grad()\n",
    "            \n",
    "            # Forward pass\n",
    "            outputs = model(**inputs)  # (batch_size, num_classes)\n",
    "            \n",
    "            # Calculate the loss\n",
    "            loss = criterion(outputs.logits, labels)\n",
    "            \n",
    "            # Backward pass + optimize\n",
    "            loss.backward()\n",
    "            optimizer.step()\n",
    "            \n",
    "            # Track loss and accuracy\n",
    "            running_loss += loss.item()\n",
    "            preds = outputs.logits.argmax(-1).item()  # Get predicted class\n",
    "            correct_predictions += (preds == labels).sum().item()\n",
    "            total_samples += labels.size(0)\n",
    "        \n",
    "        # Calculate average loss and accuracy for the epoch\n",
    "        epoch_loss = running_loss / total_samples\n",
    "        epoch_acc = correct_predictions / total_samples\n",
    "        \n",
    "        # Print statistics\n",
    "        print(f'Epoch [{epoch+1}/{num_epochs}], Loss: {epoch_loss:.4f}, Accuracy: {epoch_acc:.4f}')\n",
    "    \n",
    "    return model"
   ]
  },
  {
   "cell_type": "code",
   "execution_count": 7,
   "id": "d9c944df",
   "metadata": {
    "execution": {
     "iopub.execute_input": "2024-10-08T17:45:07.264293Z",
     "iopub.status.busy": "2024-10-08T17:45:07.263983Z",
     "iopub.status.idle": "2024-10-08T17:45:07.270568Z",
     "shell.execute_reply": "2024-10-08T17:45:07.269689Z"
    },
    "papermill": {
     "duration": 0.028555,
     "end_time": "2024-10-08T17:45:07.272452",
     "exception": false,
     "start_time": "2024-10-08T17:45:07.243897",
     "status": "completed"
    },
    "tags": []
   },
   "outputs": [
    {
     "data": {
      "text/plain": [
       "'\\nclass VideoPreprocessor(VivitImageProcessor):\\n    def __init__(self, **kwargs):\\n        super.__init__(**kwargs)\\n        \\n    def process(self, image):\\n'"
      ]
     },
     "execution_count": 7,
     "metadata": {},
     "output_type": "execute_result"
    }
   ],
   "source": [
    "\"\"\"\n",
    "class VideoPreprocessor(VivitImageProcessor):\n",
    "    def __init__(self, **kwargs):\n",
    "        super.__init__(**kwargs)\n",
    "        \n",
    "    def process(self, image):\n",
    "\"\"\"      "
   ]
  },
  {
   "cell_type": "code",
   "execution_count": 8,
   "id": "0a56a929",
   "metadata": {
    "execution": {
     "iopub.execute_input": "2024-10-08T17:45:07.317184Z",
     "iopub.status.busy": "2024-10-08T17:45:07.316595Z",
     "iopub.status.idle": "2024-10-08T17:45:07.321965Z",
     "shell.execute_reply": "2024-10-08T17:45:07.321141Z"
    },
    "papermill": {
     "duration": 0.028997,
     "end_time": "2024-10-08T17:45:07.323856",
     "exception": false,
     "start_time": "2024-10-08T17:45:07.294859",
     "status": "completed"
    },
    "tags": []
   },
   "outputs": [],
   "source": [
    "# Shrink the size of the model\n",
    "config = VivitConfig(hidden_size=256,num_hidden_layers=4,intermediate_size=768,num_attention_heads=4)\n",
    "\n",
    "config.num_labels = len(classes)\n",
    "for i in range(len(classes)):\n",
    "    id2label[i] = classes[i]\n",
    "    label2id[classes[i]] = i\n",
    "config.id2label = id2label\n",
    "config.label2id = label2id"
   ]
  },
  {
   "cell_type": "code",
   "execution_count": 9,
   "id": "5c781a24",
   "metadata": {
    "execution": {
     "iopub.execute_input": "2024-10-08T17:45:07.367028Z",
     "iopub.status.busy": "2024-10-08T17:45:07.366469Z",
     "iopub.status.idle": "2024-10-08T20:56:33.228569Z",
     "shell.execute_reply": "2024-10-08T20:56:33.227217Z"
    },
    "papermill": {
     "duration": 11485.887672,
     "end_time": "2024-10-08T20:56:33.231793",
     "exception": false,
     "start_time": "2024-10-08T17:45:07.344121",
     "status": "completed"
    },
    "tags": []
   },
   "outputs": [
    {
     "name": "stderr",
     "output_type": "stream",
     "text": [
      "Epoch 1/20:   0%|          | 0/240 [00:00<?, ?it/s]/opt/conda/lib/python3.10/site-packages/transformers/feature_extraction_utils.py:142: UserWarning: Creating a tensor from a list of numpy.ndarrays is extremely slow. Please consider converting the list to a single numpy.ndarray with numpy.array() before converting to a tensor. (Triggered internally at /usr/local/src/pytorch/torch/csrc/utils/tensor_new.cpp:278.)\n",
      "  return torch.tensor(value)\n",
      "Epoch 1/20: 100%|██████████| 240/240 [09:29<00:00,  2.37s/it]\n"
     ]
    },
    {
     "name": "stdout",
     "output_type": "stream",
     "text": [
      "Epoch [1/20], Loss: 2.8049, Accuracy: 0.0667\n"
     ]
    },
    {
     "name": "stderr",
     "output_type": "stream",
     "text": [
      "Epoch 2/20: 100%|██████████| 240/240 [09:37<00:00,  2.41s/it]\n"
     ]
    },
    {
     "name": "stdout",
     "output_type": "stream",
     "text": [
      "Epoch [2/20], Loss: 2.6161, Accuracy: 0.0750\n"
     ]
    },
    {
     "name": "stderr",
     "output_type": "stream",
     "text": [
      "Epoch 3/20: 100%|██████████| 240/240 [09:35<00:00,  2.40s/it]\n"
     ]
    },
    {
     "name": "stdout",
     "output_type": "stream",
     "text": [
      "Epoch [3/20], Loss: 2.5969, Accuracy: 0.0583\n"
     ]
    },
    {
     "name": "stderr",
     "output_type": "stream",
     "text": [
      "Epoch 4/20: 100%|██████████| 240/240 [09:49<00:00,  2.46s/it]\n"
     ]
    },
    {
     "name": "stdout",
     "output_type": "stream",
     "text": [
      "Epoch [4/20], Loss: 2.5672, Accuracy: 0.0875\n"
     ]
    },
    {
     "name": "stderr",
     "output_type": "stream",
     "text": [
      "Epoch 5/20: 100%|██████████| 240/240 [09:31<00:00,  2.38s/it]\n"
     ]
    },
    {
     "name": "stdout",
     "output_type": "stream",
     "text": [
      "Epoch [5/20], Loss: 2.5544, Accuracy: 0.0667\n"
     ]
    },
    {
     "name": "stderr",
     "output_type": "stream",
     "text": [
      "Epoch 6/20: 100%|██████████| 240/240 [09:26<00:00,  2.36s/it]\n"
     ]
    },
    {
     "name": "stdout",
     "output_type": "stream",
     "text": [
      "Epoch [6/20], Loss: 2.5424, Accuracy: 0.0542\n"
     ]
    },
    {
     "name": "stderr",
     "output_type": "stream",
     "text": [
      "Epoch 7/20: 100%|██████████| 240/240 [09:33<00:00,  2.39s/it]\n"
     ]
    },
    {
     "name": "stdout",
     "output_type": "stream",
     "text": [
      "Epoch [7/20], Loss: 2.5265, Accuracy: 0.0458\n"
     ]
    },
    {
     "name": "stderr",
     "output_type": "stream",
     "text": [
      "Epoch 8/20: 100%|██████████| 240/240 [09:23<00:00,  2.35s/it]\n"
     ]
    },
    {
     "name": "stdout",
     "output_type": "stream",
     "text": [
      "Epoch [8/20], Loss: 2.5103, Accuracy: 0.0708\n"
     ]
    },
    {
     "name": "stderr",
     "output_type": "stream",
     "text": [
      "Epoch 9/20: 100%|██████████| 240/240 [09:23<00:00,  2.35s/it]\n"
     ]
    },
    {
     "name": "stdout",
     "output_type": "stream",
     "text": [
      "Epoch [9/20], Loss: 2.5206, Accuracy: 0.0583\n"
     ]
    },
    {
     "name": "stderr",
     "output_type": "stream",
     "text": [
      "Epoch 10/20: 100%|██████████| 240/240 [09:17<00:00,  2.32s/it]\n"
     ]
    },
    {
     "name": "stdout",
     "output_type": "stream",
     "text": [
      "Epoch [10/20], Loss: 2.5174, Accuracy: 0.0708\n"
     ]
    },
    {
     "name": "stderr",
     "output_type": "stream",
     "text": [
      "Epoch 11/20: 100%|██████████| 240/240 [09:24<00:00,  2.35s/it]\n"
     ]
    },
    {
     "name": "stdout",
     "output_type": "stream",
     "text": [
      "Epoch [11/20], Loss: 2.5131, Accuracy: 0.0542\n"
     ]
    },
    {
     "name": "stderr",
     "output_type": "stream",
     "text": [
      "Epoch 12/20: 100%|██████████| 240/240 [09:40<00:00,  2.42s/it]\n"
     ]
    },
    {
     "name": "stdout",
     "output_type": "stream",
     "text": [
      "Epoch [12/20], Loss: 2.5106, Accuracy: 0.0583\n"
     ]
    },
    {
     "name": "stderr",
     "output_type": "stream",
     "text": [
      "Epoch 13/20: 100%|██████████| 240/240 [09:37<00:00,  2.41s/it]\n"
     ]
    },
    {
     "name": "stdout",
     "output_type": "stream",
     "text": [
      "Epoch [13/20], Loss: 2.4994, Accuracy: 0.0750\n"
     ]
    },
    {
     "name": "stderr",
     "output_type": "stream",
     "text": [
      "Epoch 14/20: 100%|██████████| 240/240 [09:33<00:00,  2.39s/it]\n"
     ]
    },
    {
     "name": "stdout",
     "output_type": "stream",
     "text": [
      "Epoch [14/20], Loss: 2.5091, Accuracy: 0.0708\n"
     ]
    },
    {
     "name": "stderr",
     "output_type": "stream",
     "text": [
      "Epoch 15/20: 100%|██████████| 240/240 [09:33<00:00,  2.39s/it]\n"
     ]
    },
    {
     "name": "stdout",
     "output_type": "stream",
     "text": [
      "Epoch [15/20], Loss: 2.5010, Accuracy: 0.0792\n"
     ]
    },
    {
     "name": "stderr",
     "output_type": "stream",
     "text": [
      "Epoch 16/20: 100%|██████████| 240/240 [09:49<00:00,  2.46s/it]\n"
     ]
    },
    {
     "name": "stdout",
     "output_type": "stream",
     "text": [
      "Epoch [16/20], Loss: 2.5056, Accuracy: 0.0583\n"
     ]
    },
    {
     "name": "stderr",
     "output_type": "stream",
     "text": [
      "Epoch 17/20: 100%|██████████| 240/240 [09:43<00:00,  2.43s/it]\n"
     ]
    },
    {
     "name": "stdout",
     "output_type": "stream",
     "text": [
      "Epoch [17/20], Loss: 2.5173, Accuracy: 0.0667\n"
     ]
    },
    {
     "name": "stderr",
     "output_type": "stream",
     "text": [
      "Epoch 18/20: 100%|██████████| 240/240 [09:40<00:00,  2.42s/it]\n"
     ]
    },
    {
     "name": "stdout",
     "output_type": "stream",
     "text": [
      "Epoch [18/20], Loss: 2.5084, Accuracy: 0.0708\n"
     ]
    },
    {
     "name": "stderr",
     "output_type": "stream",
     "text": [
      "Epoch 19/20: 100%|██████████| 240/240 [09:35<00:00,  2.40s/it]\n"
     ]
    },
    {
     "name": "stdout",
     "output_type": "stream",
     "text": [
      "Epoch [19/20], Loss: 2.4945, Accuracy: 0.0750\n"
     ]
    },
    {
     "name": "stderr",
     "output_type": "stream",
     "text": [
      "Epoch 20/20: 100%|██████████| 240/240 [09:37<00:00,  2.40s/it]"
     ]
    },
    {
     "name": "stdout",
     "output_type": "stream",
     "text": [
      "Epoch [20/20], Loss: 2.4993, Accuracy: 0.0583\n"
     ]
    },
    {
     "name": "stderr",
     "output_type": "stream",
     "text": [
      "\n"
     ]
    },
    {
     "data": {
      "text/plain": [
       "VivitForVideoClassification(\n",
       "  (vivit): VivitModel(\n",
       "    (embeddings): VivitEmbeddings(\n",
       "      (patch_embeddings): VivitTubeletEmbeddings(\n",
       "        (projection): Conv3d(3, 256, kernel_size=(2, 16, 16), stride=(2, 16, 16))\n",
       "      )\n",
       "      (dropout): Dropout(p=0.0, inplace=False)\n",
       "    )\n",
       "    (encoder): VivitEncoder(\n",
       "      (layer): ModuleList(\n",
       "        (0-3): 4 x VivitLayer(\n",
       "          (attention): VivitAttention(\n",
       "            (attention): VivitSelfAttention(\n",
       "              (query): Linear(in_features=256, out_features=256, bias=True)\n",
       "              (key): Linear(in_features=256, out_features=256, bias=True)\n",
       "              (value): Linear(in_features=256, out_features=256, bias=True)\n",
       "              (dropout): Dropout(p=0.0, inplace=False)\n",
       "            )\n",
       "            (output): VivitSelfOutput(\n",
       "              (dense): Linear(in_features=256, out_features=256, bias=True)\n",
       "              (dropout): Dropout(p=0.0, inplace=False)\n",
       "            )\n",
       "          )\n",
       "          (intermediate): VivitIntermediate(\n",
       "            (dense): Linear(in_features=256, out_features=768, bias=True)\n",
       "            (dropout): Dropout(p=0.0, inplace=False)\n",
       "            (intermediate_act_fn): FastGELUActivation()\n",
       "          )\n",
       "          (output): VivitOutput(\n",
       "            (dense): Linear(in_features=768, out_features=256, bias=True)\n",
       "            (dropout): Dropout(p=0.0, inplace=False)\n",
       "          )\n",
       "          (layernorm_before): LayerNorm((256,), eps=1e-06, elementwise_affine=True)\n",
       "          (layernorm_after): LayerNorm((256,), eps=1e-06, elementwise_affine=True)\n",
       "        )\n",
       "      )\n",
       "    )\n",
       "    (layernorm): LayerNorm((256,), eps=1e-06, elementwise_affine=True)\n",
       "  )\n",
       "  (classifier): Linear(in_features=256, out_features=12, bias=True)\n",
       ")"
      ]
     },
     "execution_count": 9,
     "metadata": {},
     "output_type": "execute_result"
    }
   ],
   "source": [
    "# create the model from the config\n",
    "model = VivitForVideoClassification(config)\n",
    "#model = torch.load(\"cur_model.pkl\", weights_only=False)\n",
    "\n",
    "# set the optimizer, criterion, and device\n",
    "criterion = nn.CrossEntropyLoss().cuda() if torch.cuda.is_available else nn.CrossEntropyLoss()\n",
    "optimizer = torch.optim.Adam(model.parameters())\n",
    "device = torch.device(\"cuda\" if torch.cuda.is_available() else \"cpu\")\n",
    "\n",
    "# input the data\n",
    "# image_processor = VivitImageProcessor.from_pretrained(\"google/vivit-b-16x2-kinetics400\")\n",
    "image_processor = VivitImageProcessor()\n",
    "dataset = HandwashingDataset(data_dir, train_vid_names, image_processor)\n",
    "data_loader = DataLoader(dataset, batch_size = 1, shuffle=True)\n",
    "\n",
    "train_vivit_model(model, data_loader, criterion, optimizer, device, 20)"
   ]
  },
  {
   "cell_type": "code",
   "execution_count": 10,
   "id": "a76860d5",
   "metadata": {
    "execution": {
     "iopub.execute_input": "2024-10-08T20:56:34.148513Z",
     "iopub.status.busy": "2024-10-08T20:56:34.148045Z",
     "iopub.status.idle": "2024-10-08T20:56:34.198678Z",
     "shell.execute_reply": "2024-10-08T20:56:34.197550Z"
    },
    "papermill": {
     "duration": 0.501475,
     "end_time": "2024-10-08T20:56:34.200689",
     "exception": false,
     "start_time": "2024-10-08T20:56:33.699214",
     "status": "completed"
    },
    "tags": []
   },
   "outputs": [],
   "source": [
    "torch.save(model, \"cur_model.pkl\")"
   ]
  },
  {
   "cell_type": "markdown",
   "id": "93171baa",
   "metadata": {
    "papermill": {
     "duration": 0.455482,
     "end_time": "2024-10-08T20:56:35.054261",
     "exception": false,
     "start_time": "2024-10-08T20:56:34.598779",
     "status": "completed"
    },
    "tags": []
   },
   "source": [
    "<a href=\"cur_model.pkl\"> Download File </a>"
   ]
  }
 ],
 "metadata": {
  "kaggle": {
   "accelerator": "gpu",
   "dataSources": [
    {
     "datasetId": 416449,
     "sourceId": 1093962,
     "sourceType": "datasetVersion"
    }
   ],
   "dockerImageVersionId": 30775,
   "isGpuEnabled": true,
   "isInternetEnabled": true,
   "language": "python",
   "sourceType": "notebook"
  },
  "kernelspec": {
   "display_name": "Python 3",
   "language": "python",
   "name": "python3"
  },
  "language_info": {
   "codemirror_mode": {
    "name": "ipython",
    "version": 3
   },
   "file_extension": ".py",
   "mimetype": "text/x-python",
   "name": "python",
   "nbconvert_exporter": "python",
   "pygments_lexer": "ipython3",
   "version": "3.10.14"
  },
  "papermill": {
   "default_parameters": {},
   "duration": 11553.260837,
   "end_time": "2024-10-08T20:56:39.981885",
   "environment_variables": {},
   "exception": null,
   "input_path": "__notebook__.ipynb",
   "output_path": "__notebook__.ipynb",
   "parameters": {},
   "start_time": "2024-10-08T17:44:06.721048",
   "version": "2.6.0"
  }
 },
 "nbformat": 4,
 "nbformat_minor": 5
}
